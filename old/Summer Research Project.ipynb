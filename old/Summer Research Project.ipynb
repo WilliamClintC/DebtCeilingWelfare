{
 "cells": [
  {
   "attachments": {},
   "cell_type": "markdown",
   "metadata": {},
   "source": [
    "we start by looking at the coverage of our central bank data"
   ]
  },
  {
   "cell_type": "code",
   "execution_count": 34,
   "metadata": {},
   "outputs": [
    {
     "data": {
      "text/plain": [
       "0       United States of America\n",
       "1                 United Kingdom\n",
       "2                        Belgium\n",
       "3                        Denmark\n",
       "4                         France\n",
       "                  ...           \n",
       "1359                         NaN\n",
       "1360                         NaN\n",
       "1361                         NaN\n",
       "1362                         NaN\n",
       "1363                         NaN\n",
       "Name: Country, Length: 1364, dtype: object"
      ]
     },
     "execution_count": 34,
     "metadata": {},
     "output_type": "execute_result"
    }
   ],
   "source": [
    "import pandas as pd\n",
    "import geopandas as gpd\n",
    "import matplotlib.pyplot as plt\n",
    "\n",
    "# Load the Excel file using pandas\n",
    "data = pd.read_excel('reserves_currency_share2021.xlsx')\n",
    "\n",
    "CountryColumn = data['Country']\n",
    "CountryColumn\n"
   ]
  },
  {
   "cell_type": "code",
   "execution_count": 35,
   "metadata": {},
   "outputs": [
    {
     "ename": "ModuleNotFoundError",
     "evalue": "No module named 'mpl_toolkits.basemap'",
     "output_type": "error",
     "traceback": [
      "\u001b[1;31m---------------------------------------------------------------------------\u001b[0m",
      "\u001b[1;31mModuleNotFoundError\u001b[0m                       Traceback (most recent call last)",
      "Cell \u001b[1;32mIn[35], line 2\u001b[0m\n\u001b[0;32m      1\u001b[0m \u001b[39mimport\u001b[39;00m \u001b[39mmatplotlib\u001b[39;00m\u001b[39m.\u001b[39;00m\u001b[39mpyplot\u001b[39;00m \u001b[39mas\u001b[39;00m \u001b[39mplt\u001b[39;00m\n\u001b[1;32m----> 2\u001b[0m \u001b[39mfrom\u001b[39;00m \u001b[39mmpl_toolkits\u001b[39;00m\u001b[39m.\u001b[39;00m\u001b[39mbasemap\u001b[39;00m \u001b[39mimport\u001b[39;00m Basemap\n\u001b[0;32m      4\u001b[0m \u001b[39mdef\u001b[39;00m \u001b[39mplot_country_presence\u001b[39m(country_list, target_country):\n\u001b[0;32m      5\u001b[0m     \u001b[39m# Set up the map\u001b[39;00m\n\u001b[0;32m      6\u001b[0m     \u001b[39mmap\u001b[39m \u001b[39m=\u001b[39m Basemap()\n",
      "\u001b[1;31mModuleNotFoundError\u001b[0m: No module named 'mpl_toolkits.basemap'"
     ]
    }
   ],
   "source": [
    "import matplotlib.pyplot as plt\n",
    "from mpl_toolkits.basemap import Basemap\n",
    "\n",
    "def plot_country_presence(country_list, target_country):\n",
    "    # Set up the map\n",
    "    map = Basemap()\n",
    "    map.drawcoastlines()\n",
    "    \n",
    "    # Get the coordinates of the target country\n",
    "    country_coords = []\n",
    "    for country in country_list:\n",
    "        x, y = map(*map.geocode(country))\n",
    "        country_coords.append((x, y))\n",
    "    \n",
    "    # Check if the target country is present and plot accordingly\n",
    "    if target_country in country_list:\n",
    "        x, y = country_coords[country_list.index(target_country)]\n",
    "        plt.plot(x, y, 'ro', markersize=8, label=target_country)\n",
    "        plt.text(x, y, target_country, fontsize=8, ha='right')\n",
    "        plt.title(f\"Presence of {target_country}\")\n",
    "    else:\n",
    "        plt.title(f\"Absence of {target_country}\")\n",
    "    \n",
    "    plt.legend()\n",
    "    plt.show()\n",
    "\n",
    "country_list = [\"USA\", \"Canada\", \"Mexico\", \"Germany\", \"France\"]\n",
    "\n",
    "target_country = input(\"Enter a country name: \")\n",
    "plot_country_presence(country_list, target_country)\n"
   ]
  },
  {
   "cell_type": "code",
   "execution_count": null,
   "metadata": {},
   "outputs": [],
   "source": []
  }
 ],
 "metadata": {
  "kernelspec": {
   "display_name": "Python 3",
   "language": "python",
   "name": "python3"
  },
  "language_info": {
   "codemirror_mode": {
    "name": "ipython",
    "version": 3
   },
   "file_extension": ".py",
   "mimetype": "text/x-python",
   "name": "python",
   "nbconvert_exporter": "python",
   "pygments_lexer": "ipython3",
   "version": "3.11.3"
  },
  "orig_nbformat": 4
 },
 "nbformat": 4,
 "nbformat_minor": 2
}
